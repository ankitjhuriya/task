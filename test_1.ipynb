{
 "cells": [
  {
   "cell_type": "code",
   "execution_count": 41,
   "id": "3b39d15f",
   "metadata": {},
   "outputs": [],
   "source": [
    "#creating libraries\n",
    "import pandas as pd\n",
    "import sqlite3"
   ]
  },
  {
   "cell_type": "code",
   "execution_count": 42,
   "id": "46abcc42",
   "metadata": {},
   "outputs": [
    {
     "name": "stdout",
     "output_type": "stream",
     "text": [
      "<class 'pandas.core.frame.DataFrame'>\n",
      "RangeIndex: 668125 entries, 0 to 668124\n",
      "Data columns (total 4 columns):\n",
      " #   Column                 Non-Null Count   Dtype \n",
      "---  ------                 --------------   ----- \n",
      " 0   CUSTOMER_REQUEST_ID    668125 non-null  object\n",
      " 1   USER_ID                668125 non-null  object\n",
      " 2   RESPONDED_PRO_BOOKING  668125 non-null  object\n",
      " 3   BDATE_FINAL            668125 non-null  object\n",
      "dtypes: object(4)\n",
      "memory usage: 20.4+ MB\n"
     ]
    }
   ],
   "source": [
    "#creating data frame\n",
    "df=pd.read_csv(r'C:\\Users\\asus\\UC\\SQL Test (1).csv')# parse_dates='BDATE_FINAL')\n",
    "df.info()"
   ]
  },
  {
   "cell_type": "code",
   "execution_count": 43,
   "id": "c1057943",
   "metadata": {
    "scrolled": true
   },
   "outputs": [
    {
     "name": "stdout",
     "output_type": "stream",
     "text": [
      "<class 'pandas.core.frame.DataFrame'>\n",
      "RangeIndex: 668125 entries, 0 to 668124\n",
      "Data columns (total 4 columns):\n",
      " #   Column                 Non-Null Count   Dtype         \n",
      "---  ------                 --------------   -----         \n",
      " 0   CUSTOMER_REQUEST_ID    668125 non-null  object        \n",
      " 1   USER_ID                668125 non-null  object        \n",
      " 2   RESPONDED_PRO_BOOKING  668125 non-null  object        \n",
      " 3   BDATE_FINAL            668125 non-null  datetime64[ns]\n",
      "dtypes: datetime64[ns](1), object(3)\n",
      "memory usage: 20.4+ MB\n"
     ]
    }
   ],
   "source": [
    "df.BDATE_FINAL=pd.to_datetime(df.BDATE_FINAL)\n",
    "df.info()"
   ]
  },
  {
   "cell_type": "code",
   "execution_count": 44,
   "id": "cc6260bb",
   "metadata": {},
   "outputs": [],
   "source": [
    "# creating a connection\n",
    "cnn=sqlite3.connect('jupyter_sql_tutorial.db')"
   ]
  },
  {
   "cell_type": "code",
   "execution_count": 46,
   "id": "2f484b69",
   "metadata": {},
   "outputs": [],
   "source": [
    "df.to_sql('UC_1',cnn)"
   ]
  },
  {
   "cell_type": "code",
   "execution_count": 47,
   "id": "6fe36a43",
   "metadata": {},
   "outputs": [
    {
     "name": "stdout",
     "output_type": "stream",
     "text": [
      "The sql extension is already loaded. To reload it, use:\n",
      "  %reload_ext sql\n"
     ]
    }
   ],
   "source": [
    "%load_ext sql"
   ]
  },
  {
   "cell_type": "code",
   "execution_count": 48,
   "id": "d6e9681c",
   "metadata": {},
   "outputs": [],
   "source": [
    "%sql sqlite:///jupyter_sql_tutorial.db"
   ]
  },
  {
   "cell_type": "code",
   "execution_count": 49,
   "id": "320fab43",
   "metadata": {},
   "outputs": [
    {
     "name": "stdout",
     "output_type": "stream",
     "text": [
      " * sqlite:///jupyter_sql_tutorial.db\n",
      "Done.\n"
     ]
    },
    {
     "data": {
      "text/html": [
       "<table>\n",
       "    <tr>\n",
       "        <th>COUNT( CUSTOMER_REQUEST_ID)</th>\n",
       "    </tr>\n",
       "    <tr>\n",
       "        <td>668125</td>\n",
       "    </tr>\n",
       "</table>"
      ],
      "text/plain": [
       "[(668125,)]"
      ]
     },
     "execution_count": 49,
     "metadata": {},
     "output_type": "execute_result"
    }
   ],
   "source": [
    "%%sql\n",
    "\n",
    "SELECT COUNT( CUSTOMER_REQUEST_ID) FROM UC"
   ]
  },
  {
   "cell_type": "code",
   "execution_count": 58,
   "id": "b71a9518",
   "metadata": {
    "scrolled": false
   },
   "outputs": [
    {
     "name": "stdout",
     "output_type": "stream",
     "text": [
      " * sqlite:///jupyter_sql_tutorial.db\n",
      "Done.\n"
     ]
    },
    {
     "data": {
      "text/html": [
       "<table>\n",
       "    <tr>\n",
       "        <th>count( RESPONDED_PRO_BOOKING)</th>\n",
       "    </tr>\n",
       "    <tr>\n",
       "        <td>25271</td>\n",
       "    </tr>\n",
       "    <tr>\n",
       "        <td>33985</td>\n",
       "    </tr>\n",
       "    <tr>\n",
       "        <td>24860</td>\n",
       "    </tr>\n",
       "    <tr>\n",
       "        <td>1</td>\n",
       "    </tr>\n",
       "    <tr>\n",
       "        <td>9490</td>\n",
       "    </tr>\n",
       "    <tr>\n",
       "        <td>44208</td>\n",
       "    </tr>\n",
       "    <tr>\n",
       "        <td>90388</td>\n",
       "    </tr>\n",
       "    <tr>\n",
       "        <td>137805</td>\n",
       "    </tr>\n",
       "    <tr>\n",
       "        <td>142810</td>\n",
       "    </tr>\n",
       "    <tr>\n",
       "        <td>159307</td>\n",
       "    </tr>\n",
       "</table>"
      ],
      "text/plain": [
       "[(25271,),\n",
       " (33985,),\n",
       " (24860,),\n",
       " (1,),\n",
       " (9490,),\n",
       " (44208,),\n",
       " (90388,),\n",
       " (137805,),\n",
       " (142810,),\n",
       " (159307,)]"
      ]
     },
     "execution_count": 58,
     "metadata": {},
     "output_type": "execute_result"
    }
   ],
   "source": [
    "%%sql\n",
    "\n",
    "SELECT count( RESPONDED_PRO_BOOKING) FROM UC_1\n",
    "group by STRFTIME('%m',BDATE_FINAL)"
   ]
  },
  {
   "cell_type": "code",
   "execution_count": 60,
   "id": "42a288b6",
   "metadata": {},
   "outputs": [
    {
     "name": "stdout",
     "output_type": "stream",
     "text": [
      " * sqlite:///jupyter_sql_tutorial.db\n",
      "Done.\n"
     ]
    },
    {
     "data": {
      "text/html": [
       "<table>\n",
       "    <tr>\n",
       "        <th>STRFTIME(&#x27;%m&#x27;,BDATE_FINAL)</th>\n",
       "    </tr>\n",
       "    <tr>\n",
       "        <td>01</td>\n",
       "    </tr>\n",
       "    <tr>\n",
       "        <td>02</td>\n",
       "    </tr>\n",
       "    <tr>\n",
       "        <td>03</td>\n",
       "    </tr>\n",
       "    <tr>\n",
       "        <td>04</td>\n",
       "    </tr>\n",
       "    <tr>\n",
       "        <td>05</td>\n",
       "    </tr>\n",
       "    <tr>\n",
       "        <td>06</td>\n",
       "    </tr>\n",
       "    <tr>\n",
       "        <td>07</td>\n",
       "    </tr>\n",
       "    <tr>\n",
       "        <td>08</td>\n",
       "    </tr>\n",
       "    <tr>\n",
       "        <td>09</td>\n",
       "    </tr>\n",
       "    <tr>\n",
       "        <td>10</td>\n",
       "    </tr>\n",
       "</table>"
      ],
      "text/plain": [
       "[('01',),\n",
       " ('02',),\n",
       " ('03',),\n",
       " ('04',),\n",
       " ('05',),\n",
       " ('06',),\n",
       " ('07',),\n",
       " ('08',),\n",
       " ('09',),\n",
       " ('10',)]"
      ]
     },
     "execution_count": 60,
     "metadata": {},
     "output_type": "execute_result"
    }
   ],
   "source": [
    "%%sql\n",
    "\n",
    "SELECT distinct STRFTIME('%m',BDATE_FINAL) FROM UC_1\n",
    "order by STRFTIME('%m',BDATE_FINAL)"
   ]
  },
  {
   "cell_type": "code",
   "execution_count": null,
   "id": "7d840cec",
   "metadata": {},
   "outputs": [],
   "source": []
  }
 ],
 "metadata": {
  "kernelspec": {
   "display_name": "Python 3",
   "language": "python",
   "name": "python3"
  },
  "language_info": {
   "codemirror_mode": {
    "name": "ipython",
    "version": 3
   },
   "file_extension": ".py",
   "mimetype": "text/x-python",
   "name": "python",
   "nbconvert_exporter": "python",
   "pygments_lexer": "ipython3",
   "version": "3.8.8"
  }
 },
 "nbformat": 4,
 "nbformat_minor": 5
}
